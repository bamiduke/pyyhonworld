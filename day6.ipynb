{
 "cells": [
  {
   "cell_type": "markdown",
   "id": "63a69720",
   "metadata": {},
   "source": [
    "# function"
   ]
  },
  {
   "cell_type": "code",
   "execution_count": 1,
   "id": "fe64ef8b",
   "metadata": {},
   "outputs": [],
   "source": [
    "def greet():\n",
    "    return 'welometo python class'\n"
   ]
  },
  {
   "cell_type": "code",
   "execution_count": 2,
   "id": "cc7d35d0",
   "metadata": {},
   "outputs": [
    {
     "data": {
      "text/plain": [
       "'welometo python class'"
      ]
     },
     "execution_count": 2,
     "metadata": {},
     "output_type": "execute_result"
    }
   ],
   "source": [
    "greet()"
   ]
  },
  {
   "cell_type": "code",
   "execution_count": 4,
   "id": "588af9e0",
   "metadata": {},
   "outputs": [
    {
     "data": {
      "text/plain": [
       "'welometo python class'"
      ]
     },
     "execution_count": 4,
     "metadata": {},
     "output_type": "execute_result"
    }
   ],
   "source": [
    "greet()"
   ]
  },
  {
   "cell_type": "code",
   "execution_count": 8,
   "id": "1aaae3f7",
   "metadata": {},
   "outputs": [
    {
     "data": {
      "text/plain": [
       "'welcome to python class Ade'"
      ]
     },
     "execution_count": 8,
     "metadata": {},
     "output_type": "execute_result"
    }
   ],
   "source": [
    "def greet2(name):\n",
    "    return f'welcome to python class {name}'\n",
    "greet2('Ade')\n"
   ]
  },
  {
   "cell_type": "code",
   "execution_count": 9,
   "id": "13814fa5",
   "metadata": {},
   "outputs": [
    {
     "data": {
      "text/plain": [
       "'welcome to python class sam'"
      ]
     },
     "execution_count": 9,
     "metadata": {},
     "output_type": "execute_result"
    }
   ],
   "source": [
    "greet2('sam')"
   ]
  },
  {
   "cell_type": "code",
   "execution_count": 10,
   "id": "27fcc873",
   "metadata": {},
   "outputs": [
    {
     "name": "stdout",
     "output_type": "stream",
     "text": [
      "please enter your namedav\n"
     ]
    },
    {
     "data": {
      "text/plain": [
       "'welcome to python class dav'"
      ]
     },
     "execution_count": 10,
     "metadata": {},
     "output_type": "execute_result"
    }
   ],
   "source": [
    "greet2(input('please enter your name'))"
   ]
  },
  {
   "cell_type": "code",
   "execution_count": null,
   "id": "40017698",
   "metadata": {},
   "outputs": [],
   "source": []
  },
  {
   "cell_type": "code",
   "execution_count": 11,
   "id": "5ef182e1",
   "metadata": {},
   "outputs": [
    {
     "data": {
      "text/plain": [
       "'employee will work only in the urban area'"
      ]
     },
     "execution_count": 11,
     "metadata": {},
     "output_type": "execute_result"
    }
   ],
   "source": [
    "def posting(age,gender,material):\n",
    "    if gender == 'f':\n",
    "        return 'employee will work only in the urban area'\n",
    "    elif gender == 'm' and age >=20 and age <40:\n",
    "        return 'emloyee can will only anywhere'\n",
    "    elif gender == 'm' and age >=40 and age <60:\n",
    "        return 'employee will work only in the urban area'\n",
    "    else:\n",
    "        print('error')\n",
    "posting(45,'m','y')\n",
    "        "
   ]
  },
  {
   "cell_type": "code",
   "execution_count": 13,
   "id": "34b86c6d",
   "metadata": {},
   "outputs": [
    {
     "data": {
      "text/plain": [
       "'employee will work only in the urban area'"
      ]
     },
     "execution_count": 13,
     "metadata": {},
     "output_type": "execute_result"
    }
   ],
   "source": [
    "posting(25,'f','N')"
   ]
  },
  {
   "cell_type": "code",
   "execution_count": 14,
   "id": "88a2dc88",
   "metadata": {},
   "outputs": [
    {
     "data": {
      "text/plain": [
       "'employee will work only in the urban area'"
      ]
     },
     "execution_count": 14,
     "metadata": {},
     "output_type": "execute_result"
    }
   ],
   "source": [
    "def posting(age,gender,materialS = 'S'):\n",
    "    if gender == 'f':\n",
    "        return 'employee will work only in the urban area'\n",
    "    elif gender == 'm' and age >=20 and age <40:\n",
    "        return 'emloyee can will only anywhere'\n",
    "    elif gender == 'm' and age >=40 and age <60:\n",
    "        return 'employee will work only in the urban area'\n",
    "    else:\n",
    "        print('error')\n",
    "posting(45,'m','m')\n",
    "        "
   ]
  },
  {
   "cell_type": "markdown",
   "id": "ab6beb46",
   "metadata": {},
   "source": [
    "# VARIABLE LENGTH FUNCTION"
   ]
  },
  {
   "cell_type": "code",
   "execution_count": 15,
   "id": "1de0e7ec",
   "metadata": {},
   "outputs": [
    {
     "name": "stdout",
     "output_type": "stream",
     "text": [
      "<class 'tuple'>\n",
      "the average of (78, 69, 58, 87, 44, 39) is 62.5\n"
     ]
    }
   ],
   "source": [
    "def average(*num):\n",
    "    print(type(num))\n",
    "    avg = sum(num)/len(num)\n",
    "    print(f'the average of {num} is {avg}')\n",
    "average(78,69,58,87,44,39)"
   ]
  },
  {
   "cell_type": "code",
   "execution_count": 16,
   "id": "677f1c51",
   "metadata": {},
   "outputs": [
    {
     "name": "stdout",
     "output_type": "stream",
     "text": [
      "<class 'tuple'>\n",
      "the average of (45, 86, 56, 46, 94, 78) is 67.5\n"
     ]
    }
   ],
   "source": [
    "numbers = [45,86,56,46,94,78]\n",
    "average(*numbers)"
   ]
  },
  {
   "cell_type": "markdown",
   "id": "f37fc260",
   "metadata": {},
   "source": [
    "# keyword argumetion"
   ]
  },
  {
   "cell_type": "code",
   "execution_count": 17,
   "id": "649bb574",
   "metadata": {},
   "outputs": [
    {
     "name": "stdout",
     "output_type": "stream",
     "text": [
      "<class 'dict'>\n",
      "Name :: Ade\n",
      "Gender :: Male\n",
      "Age :: 35\n"
     ]
    }
   ],
   "source": [
    "def detail(**records):\n",
    "    print(type(records))\n",
    "    for key, value in records.items():\n",
    "        print(key, '::', value)\n",
    "detail(Name = 'Ade', Gender = 'Male', Age = 35)"
   ]
  },
  {
   "cell_type": "code",
   "execution_count": 19,
   "id": "5ad6be3c",
   "metadata": {},
   "outputs": [
    {
     "name": "stdout",
     "output_type": "stream",
     "text": [
      "<class 'dict'>\n",
      "School :: Ade college\n",
      "Year :: 2002\n",
      "chairman :: Mr bode lawal\n"
     ]
    }
   ],
   "source": [
    "final = {\n",
    "    'School':'Ade college',\n",
    "    'Year':2002,\n",
    "    'chairman':'Mr bode lawal'\n",
    "}\n",
    "detail(**final)"
   ]
  },
  {
   "cell_type": "code",
   "execution_count": null,
   "id": "4826234c",
   "metadata": {},
   "outputs": [],
   "source": []
  }
 ],
 "metadata": {
  "kernelspec": {
   "display_name": "Python 3 (ipykernel)",
   "language": "python",
   "name": "python3"
  },
  "language_info": {
   "codemirror_mode": {
    "name": "ipython",
    "version": 3
   },
   "file_extension": ".py",
   "mimetype": "text/x-python",
   "name": "python",
   "nbconvert_exporter": "python",
   "pygments_lexer": "ipython3",
   "version": "3.9.12"
  }
 },
 "nbformat": 4,
 "nbformat_minor": 5
}
