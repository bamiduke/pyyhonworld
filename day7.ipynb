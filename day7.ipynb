{
 "cells": [
  {
   "cell_type": "code",
   "execution_count": 1,
   "id": "9fdef58f",
   "metadata": {},
   "outputs": [],
   "source": [
    "#write a python function code  to transfer, withdraw and deposit fund"
   ]
  },
  {
   "cell_type": "code",
   "execution_count": 23,
   "id": "614acfac",
   "metadata": {},
   "outputs": [],
   "source": [
    "accounts = {'Alice':5000,'Bob':15000, 'Faith':25000}\n",
    "def bank_funds(accounts, account_name, amount, action):\n",
    "    if account_name not in accounts:\n",
    "        return f'Error: {account_name} not found in accounts.'\n",
    "    if action == 'transfer':\n",
    "        if  accounts[account_name] < amount:\n",
    "            return f'Error: {account_name} does not have enough\\\n",
    "funds to make this transfer'\n",
    "        to_account = input('Enter account to tranfer to')\n",
    "        if to_account not in accounts:\n",
    "            return f'Error:{to_account} not found in accounts'\n",
    "        accounts[account_name]  = accounts[account_name] - amount\n",
    "        accounts[to_account] += amount\n",
    "    elif action =='withdraw':\n",
    "        if accounts[account_name] < amount :\n",
    "            return f'Error: {account_name} does not have enough\\\n",
    "funds to make this withdrwal'\n",
    "        accounts[account_name] -= amount\n",
    "    elif action =='deposit':\n",
    "        accounts[account_name] += amount\n",
    "    else:\n",
    "        return \"Error invalid action\"\n",
    "    return(accounts)\n",
    "        "
   ]
  },
  {
   "cell_type": "code",
   "execution_count": 24,
   "id": "7ec777b4",
   "metadata": {},
   "outputs": [
    {
     "name": "stdout",
     "output_type": "stream",
     "text": [
      "Enter account to tranfer toAlice\n"
     ]
    },
    {
     "data": {
      "text/plain": [
       "{'Alice': 9000, 'Bob': 11000, 'Faith': 25000}"
      ]
     },
     "execution_count": 24,
     "metadata": {},
     "output_type": "execute_result"
    }
   ],
   "source": [
    "\n",
    "bank_funds(accounts,'Bob',4000,'transfer')"
   ]
  },
  {
   "cell_type": "code",
   "execution_count": 25,
   "id": "25a978f9",
   "metadata": {},
   "outputs": [
    {
     "data": {
      "text/plain": [
       "{'Alice': 7000, 'Bob': 11000, 'Faith': 25000}"
      ]
     },
     "execution_count": 25,
     "metadata": {},
     "output_type": "execute_result"
    }
   ],
   "source": [
    "bank_funds(accounts,'Alice',2000,'withdraw')"
   ]
  },
  {
   "cell_type": "code",
   "execution_count": 26,
   "id": "c511f916",
   "metadata": {},
   "outputs": [
    {
     "data": {
      "text/plain": [
       "{'Alice': 7000, 'Bob': 21000, 'Faith': 25000}"
      ]
     },
     "execution_count": 26,
     "metadata": {},
     "output_type": "execute_result"
    }
   ],
   "source": [
    "bank_funds(accounts,'Bob',10000,'deposit')"
   ]
  },
  {
   "cell_type": "code",
   "execution_count": 33,
   "id": "5e02a43c",
   "metadata": {},
   "outputs": [],
   "source": [
    "accounts = {'Alice':5000,'Bob':15000, 'Faith':25000}\n",
    "def banking():\n",
    "    action  = input('Enter action:')\n",
    "    account_name = input('Please provide  account name:')\n",
    "    to_account = input('Please provide destination account')\n",
    "    for name in accounts:\n",
    "        if account_name == name:\n",
    "            if action == 'transfer':\n",
    "                amount = float(input('Enter amount to transfer'))\n",
    "                accounts[account_name]  = accounts[account_name] - amount\n",
    "                accounts[to_account] += amount\n",
    "    return accounts\n",
    "                \n",
    "    "
   ]
  },
  {
   "cell_type": "code",
   "execution_count": 34,
   "id": "aa7ad04f",
   "metadata": {},
   "outputs": [
    {
     "name": "stdout",
     "output_type": "stream",
     "text": [
      "Enter action:transfer\n",
      "Please provide  account name:Bob\n",
      "Please provide destination accountAlice\n",
      "Enter amount to transfer2000\n"
     ]
    },
    {
     "data": {
      "text/plain": [
       "{'Alice': 7000.0, 'Bob': 13000.0, 'Faith': 25000}"
      ]
     },
     "execution_count": 34,
     "metadata": {},
     "output_type": "execute_result"
    }
   ],
   "source": [
    "banking()"
   ]
  },
  {
   "cell_type": "code",
   "execution_count": null,
   "id": "92fa3411",
   "metadata": {},
   "outputs": [],
   "source": []
  }
 ],
 "metadata": {
  "kernelspec": {
   "display_name": "Python 3 (ipykernel)",
   "language": "python",
   "name": "python3"
  },
  "language_info": {
   "codemirror_mode": {
    "name": "ipython",
    "version": 3
   },
   "file_extension": ".py",
   "mimetype": "text/x-python",
   "name": "python",
   "nbconvert_exporter": "python",
   "pygments_lexer": "ipython3",
   "version": "3.9.12"
  }
 },
 "nbformat": 4,
 "nbformat_minor": 5
}
